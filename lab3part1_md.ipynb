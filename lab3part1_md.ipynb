{
  "nbformat": 4,
  "nbformat_minor": 0,
  "metadata": {
    "colab": {
      "name": "lab3part1.md",
      "provenance": [],
      "collapsed_sections": [],
      "authorship_tag": "ABX9TyOl2n2raM/OW47Lyes8R07m",
      "include_colab_link": true
    },
    "kernelspec": {
      "name": "python3",
      "display_name": "Python 3"
    },
    "language_info": {
      "name": "python"
    }
  },
  "cells": [
    {
      "cell_type": "markdown",
      "metadata": {
        "id": "view-in-github",
        "colab_type": "text"
      },
      "source": [
        "<a href=\"https://colab.research.google.com/github/AlexSin313/lab3part1.md/blob/main/lab3part1_md.ipynb\" target=\"_parent\"><img src=\"https://colab.research.google.com/assets/colab-badge.svg\" alt=\"Open In Colab\"/></a>"
      ]
    },
    {
      "cell_type": "code",
      "metadata": {
        "id": "IpH2GLwWMSMS"
      },
      "source": [
        ""
      ],
      "execution_count": null,
      "outputs": []
    },
    {
      "cell_type": "markdown",
      "metadata": {
        "id": "2kavWoO-MixU"
      },
      "source": [
        "1. This paper talks about the problems faced in Hong Kong by different industries, and the solutions to fix the problems by using information technology.\n",
        "1. Ecommerce logistics, Cyber physical system, synchronization, case studies\n",
        "1. They uses virtual eccomerce logistics to tackle the space- time problem of Hong Kong.\n",
        "1. It effectively discusses the problems of Hong Kong and give precise ways for improvements.\n",
        "1. The main weakness of the paper is that it only focuses on Hong Kong, which may not be effective or acknowledged by other countries.\n",
        "1. I learned that every problems can be solved by technology.\n"
      ]
    },
    {
      "cell_type": "markdown",
      "metadata": {
        "id": "oNkKZLjlRiZ-"
      },
      "source": [
        "Program | Software manufacturer | Software version | Software type\n",
        "---------|--------------------------|---------------------|------------------\n",
        "Cool file viewer | Cool file viewer| 1.4.14.0| applications\n",
        "Microsoft store| Microsoft Corporation| 12107.1001.15.0| applications"
      ]
    },
    {
      "cell_type": "markdown",
      "metadata": {
        "id": "MVEZiUKlTlBd"
      },
      "source": [
        "Apps| Software manufacturer| Software version| Software type\n",
        "---|---|---|---|\n",
        "Chrome|Google LLC| 94.0.4606.85| browser\n",
        "Gmail|Google LLC|2021.09.19.402388881.release| email\n",
        "Android system webview| Google LLC|94.0.4606.85| Operating system"
      ]
    }
  ]
}