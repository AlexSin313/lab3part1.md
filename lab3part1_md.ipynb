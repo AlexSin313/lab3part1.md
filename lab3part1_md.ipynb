{
  "nbformat": 4,
  "nbformat_minor": 0,
  "metadata": {
    "colab": {
      "name": "lab3part1.md",
      "provenance": [],
      "collapsed_sections": [],
      "authorship_tag": "ABX9TyN/Yhb3kXctS/VzTRc1RYW7",
      "include_colab_link": true
    },
    "kernelspec": {
      "name": "python3",
      "display_name": "Python 3"
    },
    "language_info": {
      "name": "python"
    }
  },
  "cells": [
    {
      "cell_type": "markdown",
      "metadata": {
        "id": "view-in-github",
        "colab_type": "text"
      },
      "source": [
        "<a href=\"https://colab.research.google.com/github/AlexSin313/lab3part1.md/blob/main/lab3part1_md.ipynb\" target=\"_parent\"><img src=\"https://colab.research.google.com/assets/colab-badge.svg\" alt=\"Open In Colab\"/></a>"
      ]
    },
    {
      "cell_type": "markdown",
      "metadata": {
        "id": "GOc7Ew4pxk4C"
      },
      "source": [
        "1. One\n",
        "1. Two\n",
        "1. Three\n",
        "1.\n",
        "1.\n",
        "1.\n",
        "1.\n"
      ]
    },
    {
      "cell_type": "markdown",
      "metadata": {
        "id": "QZ47vW7RwXTb"
      },
      "source": [
        "First coulmn name | Second column name\n",
        "---------------------|----------------------\n",
        "Row 1 , Col 1  | Row 1 , Col 2\n",
        "Row 2 , Col 1  | Row 2 , Col 2\n"
      ]
    },
    {
      "cell_type": "markdown",
      "metadata": {
        "id": "AvwcrvvtxhfQ"
      },
      "source": [
        ""
      ]
    }
  ]
}